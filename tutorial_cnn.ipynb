{
 "cells": [
  {
   "cell_type": "markdown",
   "metadata": {},
   "source": [
    "## CNN"
   ]
  },
  {
   "cell_type": "code",
   "execution_count": 1,
   "metadata": {},
   "outputs": [],
   "source": [
    "import os\n",
    "\n",
    "import torch\n",
    "from torch import nn\n",
    "import torch.nn.functional as F\n",
    "from torch.utils.data import DataLoader\n",
    "from torch.utils.data import Subset\n",
    "from torchvision import datasets\n",
    "from torchvision.transforms import ToTensor, Lambda, Compose\n",
    "import matplotlib.pyplot as plt\n",
    "import pandas as pd"
   ]
  },
  {
   "cell_type": "code",
   "execution_count": 2,
   "metadata": {},
   "outputs": [],
   "source": [
    "# 訓練データをdatasetsからダウンロード\n",
    "training_data = datasets.FashionMNIST(\n",
    "    root=\"data\",\n",
    "    train=True,\n",
    "    download=True,\n",
    "    transform=ToTensor(),\n",
    ")\n",
    "\n",
    "# テストデータをdatasetsからダウンロード\n",
    "test_data = datasets.FashionMNIST(\n",
    "    root=\"data\",\n",
    "    train=False,\n",
    "    download=True,\n",
    "    transform=ToTensor(),\n",
    ")"
   ]
  },
  {
   "cell_type": "markdown",
   "metadata": {},
   "source": [
    "Subsetを用いて、学習用画像60000枚を学習用50000枚と検証用10000枚に分割"
   ]
  },
  {
   "cell_type": "code",
   "execution_count": 3,
   "metadata": {},
   "outputs": [
    {
     "name": "stdout",
     "output_type": "stream",
     "text": [
      "50000 10000\n"
     ]
    }
   ],
   "source": [
    "train_size = 50000\n",
    "train_indices = list(range(0,train_size))\n",
    "valid_indices = list(range(train_size, len(training_data)))\n",
    "\n",
    "train_data = Subset(training_data, train_indices)\n",
    "valid_data = Subset(training_data, valid_indices)\n",
    "\n",
    "print(len(train_data), len(valid_data))\n"
   ]
  },
  {
   "cell_type": "code",
   "execution_count": 4,
   "metadata": {},
   "outputs": [
    {
     "name": "stdout",
     "output_type": "stream",
     "text": [
      "Shape of X [N, C, H, W]:  torch.Size([64, 1, 28, 28])\n",
      "Shape of y:  torch.Size([64]) torch.int64\n"
     ]
    }
   ],
   "source": [
    "batch_size = 64\n",
    "\n",
    "# データローダーの作成\n",
    "train_dataloader = DataLoader(train_data, batch_size=batch_size)\n",
    "validation_dataloader = DataLoader(valid_data, batch_size=batch_size)\n",
    "test_dataloader = DataLoader(test_data, batch_size=batch_size)\n",
    "\n",
    "for X, y in test_dataloader:\n",
    "    print(\"Shape of X [N, C, H, W]: \", X.shape)\n",
    "    print(\"Shape of y: \", y.shape, y.dtype)\n",
    "    break"
   ]
  },
  {
   "cell_type": "code",
   "execution_count": 5,
   "metadata": {},
   "outputs": [
    {
     "name": "stdout",
     "output_type": "stream",
     "text": [
      "Using cpu device\n",
      "CNN_model(\n",
      "  (conv1): Conv2d(1, 16, kernel_size=(3, 3), stride=(1, 1), padding=(1, 1))\n",
      "  (conv2): Conv2d(16, 32, kernel_size=(3, 3), stride=(1, 1), padding=(1, 1))\n",
      "  (flatten): Flatten(start_dim=1, end_dim=-1)\n",
      "  (fc1): Linear(in_features=1568, out_features=128, bias=True)\n",
      "  (fc2): Linear(in_features=128, out_features=10, bias=True)\n",
      ")\n"
     ]
    }
   ],
   "source": [
    "device = \"cuda\" if torch.cuda.is_available() else \"cpu\"\n",
    "print(\"Using {} device\".format(device))\n",
    "\n",
    "# CNNを用いたモデル\n",
    "class CNN_model(nn.Module):\n",
    "    def __init__(self):\n",
    "        super(CNN_model, self).__init__()\n",
    "        self.conv1 = nn.Conv2d(in_channels=1, out_channels=16, kernel_size=3, stride=1, padding=1)\n",
    "        self.conv2 = nn.Conv2d(in_channels=16, out_channels=32, kernel_size=3, stride=1, padding=1)\n",
    "        self.flatten = nn.Flatten()\n",
    "        self.fc1 = nn.Linear(32 * 7 * 7, 128)\n",
    "        self.fc2 = nn.Linear(128, 10)\n",
    "\n",
    "    def forward(self, x):\n",
    "        x = torch.relu(self.conv1(x))\n",
    "        x = torch.max_pool2d(x, kernel_size=2, stride=2)\n",
    "        x = torch.relu(self.conv2(x))\n",
    "        x = torch.max_pool2d(x, kernel_size=2, stride=2)\n",
    "        x = self.flatten(x)\n",
    "        x = torch.relu(self.fc1(x))\n",
    "        logits = self.fc2(x)\n",
    "        return logits\n",
    "\n",
    "model = CNN_model().to(device)\n",
    "print(model)"
   ]
  },
  {
   "cell_type": "code",
   "execution_count": 6,
   "metadata": {},
   "outputs": [],
   "source": [
    "loss_fn = nn.CrossEntropyLoss()\n",
    "optimizer = torch.optim.SGD(model.parameters(), lr=1e-3)"
   ]
  },
  {
   "cell_type": "code",
   "execution_count": 7,
   "metadata": {},
   "outputs": [],
   "source": [
    "def train(dataloader, model, loss_fn, optimizer):\n",
    "    size = len(dataloader.dataset)\n",
    "    model.train()\n",
    "    epoch_loss = 0\n",
    "    for batch, (X, y) in enumerate(dataloader):\n",
    "        X, y = X.to(device), y.to(device)\n",
    "        # 損失誤差を計算\n",
    "        pred = model(X)\n",
    "        loss = loss_fn(pred, y)\n",
    "        epoch_loss += loss.item()\n",
    "        # バックプロパゲーション\n",
    "        optimizer.zero_grad()\n",
    "        loss.backward()\n",
    "        optimizer.step()\n",
    "        if batch % 100 == 0:\n",
    "            loss, current = loss.item(), batch * len(X)\n",
    "            print(f\"loss: {loss:>7f}  [{current:>5d}/{size:>5d}]\")\n",
    "    epoch_loss /= size\n",
    "    return epoch_loss"
   ]
  },
  {
   "cell_type": "code",
   "execution_count": 8,
   "metadata": {},
   "outputs": [],
   "source": [
    "def validation(dataloader, model):\n",
    "    size = len(dataloader.dataset)\n",
    "    model.eval()\n",
    "    validation_loss, correct = 0, 0\n",
    "    with torch.no_grad():\n",
    "        for X, y in dataloader:\n",
    "            X, y = X.to(device), y.to(device)\n",
    "            pred = model(X)\n",
    "            validation_loss += loss_fn(pred, y).item()\n",
    "            correct += (pred.argmax(1) == y).type(torch.float).sum().item()\n",
    "    validation_loss /= size\n",
    "    correct /= size\n",
    "    print(f\"Validation Error: \\n Accuracy: {(100*correct):>0.1f}%, Avg loss: {validation_loss:>8f} \\n\")\n",
    "    return validation_loss"
   ]
  },
  {
   "cell_type": "code",
   "execution_count": 9,
   "metadata": {},
   "outputs": [],
   "source": [
    "def test(dataloader, model):\n",
    "    size = len(dataloader.dataset)\n",
    "    model.eval()\n",
    "    test_loss, correct = 0, 0\n",
    "    test_predictions = []\n",
    "    test_labels = []\n",
    "    with torch.no_grad():\n",
    "        for X, y in dataloader:\n",
    "            X, y = X.to(device), y.to(device)\n",
    "            pred = model(X)\n",
    "            test_loss += loss_fn(pred, y).item()\n",
    "            correct += (pred.argmax(1) == y).type(torch.float).sum().item()\n",
    "            test_predictions.extend(pred.argmax(1).cpu().tolist())\n",
    "            test_labels.extend(y.cpu().tolist())\n",
    "    test_loss /= size\n",
    "    correct /= size\n",
    "    print(f\"Test Error: \\n Accuracy: {(100*correct):>0.1f}%, Avg loss: {test_loss:>8f} \\n\")\n",
    "    results = {\"label\": test_labels, \"prdiction\": test_predictions}\n",
    "    df = pd.DataFrame(results)\n",
    "    return df\n"
   ]
  },
  {
   "cell_type": "markdown",
   "metadata": {},
   "source": [
    "validation損失をもとに最適epochを決定\n"
   ]
  },
  {
   "cell_type": "code",
   "execution_count": 10,
   "metadata": {},
   "outputs": [
    {
     "name": "stdout",
     "output_type": "stream",
     "text": [
      "Epoch 1\n",
      "-------------------------------\n",
      "loss: 2.298401  [    0/50000]\n",
      "loss: 2.293726  [ 6400/50000]\n",
      "loss: 2.281348  [12800/50000]\n",
      "loss: 2.279078  [19200/50000]\n",
      "loss: 2.263700  [25600/50000]\n",
      "loss: 2.256171  [32000/50000]\n",
      "loss: 2.256626  [38400/50000]\n",
      "loss: 2.232406  [44800/50000]\n",
      "Validation Error: \n",
      " Accuracy: 37.9%, Avg loss: 0.034853 \n",
      "\n",
      "Epoch 2\n",
      "-------------------------------\n",
      "loss: 2.234297  [    0/50000]\n",
      "loss: 2.214776  [ 6400/50000]\n",
      "loss: 2.174607  [12800/50000]\n",
      "loss: 2.159864  [19200/50000]\n",
      "loss: 2.111314  [25600/50000]\n",
      "loss: 2.060545  [32000/50000]\n",
      "loss: 2.022424  [38400/50000]\n",
      "loss: 1.922647  [44800/50000]\n",
      "Validation Error: \n",
      " Accuracy: 54.3%, Avg loss: 0.029234 \n",
      "\n",
      "Epoch 3\n",
      "-------------------------------\n",
      "loss: 1.924607  [    0/50000]\n",
      "loss: 1.813075  [ 6400/50000]\n",
      "loss: 1.627726  [12800/50000]\n",
      "loss: 1.571738  [19200/50000]\n",
      "loss: 1.395312  [25600/50000]\n",
      "loss: 1.333024  [32000/50000]\n",
      "loss: 1.252525  [38400/50000]\n",
      "loss: 1.148082  [44800/50000]\n",
      "Validation Error: \n",
      " Accuracy: 59.7%, Avg loss: 0.017508 \n",
      "\n",
      "Epoch 4\n",
      "-------------------------------\n",
      "loss: 1.214478  [    0/50000]\n",
      "loss: 1.161119  [ 6400/50000]\n",
      "loss: 0.952575  [12800/50000]\n",
      "loss: 1.069534  [19200/50000]\n",
      "loss: 0.908995  [25600/50000]\n",
      "loss: 0.953973  [32000/50000]\n",
      "loss: 0.960330  [38400/50000]\n",
      "loss: 0.878774  [44800/50000]\n",
      "Validation Error: \n",
      " Accuracy: 65.4%, Avg loss: 0.013908 \n",
      "\n",
      "Epoch 5\n",
      "-------------------------------\n",
      "loss: 0.961909  [    0/50000]\n",
      "loss: 0.987116  [ 6400/50000]\n",
      "loss: 0.746714  [12800/50000]\n",
      "loss: 0.955802  [19200/50000]\n",
      "loss: 0.803955  [25600/50000]\n",
      "loss: 0.848916  [32000/50000]\n",
      "loss: 0.869319  [38400/50000]\n",
      "loss: 0.788724  [44800/50000]\n",
      "Validation Error: \n",
      " Accuracy: 69.2%, Avg loss: 0.012587 \n",
      "\n",
      "Epoch 6\n",
      "-------------------------------\n",
      "loss: 0.849657  [    0/50000]\n",
      "loss: 0.903252  [ 6400/50000]\n",
      "loss: 0.654999  [12800/50000]\n",
      "loss: 0.900615  [19200/50000]\n",
      "loss: 0.746086  [25600/50000]\n",
      "loss: 0.794889  [32000/50000]\n",
      "loss: 0.816808  [38400/50000]\n",
      "loss: 0.745035  [44800/50000]\n",
      "Validation Error: \n",
      " Accuracy: 71.7%, Avg loss: 0.011810 \n",
      "\n",
      "Epoch 7\n",
      "-------------------------------\n",
      "loss: 0.778697  [    0/50000]\n",
      "loss: 0.841059  [ 6400/50000]\n",
      "loss: 0.598248  [12800/50000]\n",
      "loss: 0.860210  [19200/50000]\n",
      "loss: 0.705614  [25600/50000]\n",
      "loss: 0.761424  [32000/50000]\n",
      "loss: 0.778206  [38400/50000]\n",
      "loss: 0.713947  [44800/50000]\n",
      "Validation Error: \n",
      " Accuracy: 73.4%, Avg loss: 0.011256 \n",
      "\n",
      "Epoch 8\n",
      "-------------------------------\n",
      "loss: 0.725852  [    0/50000]\n",
      "loss: 0.791604  [ 6400/50000]\n",
      "loss: 0.557053  [12800/50000]\n",
      "loss: 0.827341  [19200/50000]\n",
      "loss: 0.674316  [25600/50000]\n",
      "loss: 0.738412  [32000/50000]\n",
      "loss: 0.746394  [38400/50000]\n",
      "loss: 0.687886  [44800/50000]\n",
      "Validation Error: \n",
      " Accuracy: 74.9%, Avg loss: 0.010822 \n",
      "\n",
      "Epoch 9\n",
      "-------------------------------\n",
      "loss: 0.682006  [    0/50000]\n",
      "loss: 0.751521  [ 6400/50000]\n",
      "loss: 0.524180  [12800/50000]\n",
      "loss: 0.799830  [19200/50000]\n",
      "loss: 0.649921  [25600/50000]\n",
      "loss: 0.721784  [32000/50000]\n",
      "loss: 0.720691  [38400/50000]\n",
      "loss: 0.665764  [44800/50000]\n",
      "Validation Error: \n",
      " Accuracy: 75.9%, Avg loss: 0.010472 \n",
      "\n",
      "Epoch 10\n",
      "-------------------------------\n",
      "loss: 0.644601  [    0/50000]\n",
      "loss: 0.718364  [ 6400/50000]\n",
      "loss: 0.497962  [12800/50000]\n",
      "loss: 0.777174  [19200/50000]\n",
      "loss: 0.630355  [25600/50000]\n",
      "loss: 0.709286  [32000/50000]\n",
      "loss: 0.698808  [38400/50000]\n",
      "loss: 0.648215  [44800/50000]\n",
      "Validation Error: \n",
      " Accuracy: 76.4%, Avg loss: 0.010182 \n",
      "\n",
      "Test Error: \n",
      " Accuracy: 75.8%, Avg loss: 0.010494 \n",
      "\n",
      "10\n",
      "Done!\n"
     ]
    }
   ],
   "source": [
    "epochs = 10\n",
    "min_loss = 1000\n",
    "model_path = \"model/cnn/\"\n",
    "result_dir = \"result/\"\n",
    "\n",
    "os.makedirs(model_path, exist_ok=True)\n",
    "os.makedirs(result_dir, exist_ok=True)\n",
    "\n",
    "train_losses = []\n",
    "validation_losses = []\n",
    "for t in range(epochs):\n",
    "    print(f\"Epoch {t+1}\\n-------------------------------\")\n",
    "    train_loss = train(train_dataloader, model, loss_fn, optimizer)\n",
    "    train_losses.append(train_loss)\n",
    "    validation_loss = validation(validation_dataloader, model)\n",
    "    validation_losses.append(validation_loss)\n",
    "    if validation_loss < min_loss:\n",
    "        best_epoch = t+1\n",
    "        min_loss = validation_loss\n",
    "    torch.save(model.state_dict(), model_path+\"model_\"+str(t+1)+\".pth\")\n",
    "\n",
    "model = CNN_model().to(device)\n",
    "model.load_state_dict(torch.load(model_path+\"model_\"+str(best_epoch)+\".pth\"))\n",
    "df_label_pred = test(test_dataloader, model)\n",
    "df_label_pred.to_csv(result_dir+\"test_cnn.csv\")\n",
    "\n",
    "print(best_epoch)\n",
    "print(\"Done!\")"
   ]
  },
  {
   "cell_type": "markdown",
   "metadata": {},
   "source": [
    "損失グラフ作成"
   ]
  },
  {
   "cell_type": "code",
   "execution_count": 11,
   "metadata": {},
   "outputs": [
    {
     "data": {
      "image/png": "[encoded data removed]",
      "text/plain": [
       "<Figure size 640x480 with 1 Axes>"
      ]
     },
     "metadata": {},
     "output_type": "display_data"
    }
   ],
   "source": [
    "plt.plot(train_losses, label=\"train\")\n",
    "plt.plot(validation_losses, label=\"validation\")\n",
    "plt.xlabel(\"epochs\")\n",
    "plt.ylabel(\"loss\")\n",
    "plt.legend()\n",
    "plt.show()\n"
   ]
  }
 ],
 "metadata": {
  "kernelspec": {
   "display_name": "Python 3",
   "language": "python",
   "name": "python3"
  },
  "language_info": {
   "codemirror_mode": {
    "name": "ipython",
    "version": 3
   },
   "file_extension": ".py",
   "mimetype": "text/x-python",
   "name": "python",
   "nbconvert_exporter": "python",
   "pygments_lexer": "ipython3",
   "version": "3.11.1"
  }
 },
 "nbformat": 4,
 "nbformat_minor": 2
}
