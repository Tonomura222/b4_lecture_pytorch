{
 "cells": [
  {
   "cell_type": "markdown",
   "metadata": {},
   "source": [
    "## U-Netセグメンテーション"
   ]
  },
  {
   "cell_type": "code",
   "execution_count": 1,
   "metadata": {},
   "outputs": [],
   "source": [
    "import os\n",
    "import glob\n",
    "\n",
    "import numpy as np\n",
    "from PIL import Image\n",
    "import torch\n",
    "from torch import nn\n",
    "from torch.utils.data import DataLoader, Dataset\n",
    "import torch.nn.functional as F\n",
    "from torchvision.transforms import ToTensor, Lambda, Compose\n",
    "import matplotlib.pyplot as plt\n",
    "import pandas as pd\n",
    "from tqdm import tqdm"
   ]
  },
  {
   "cell_type": "markdown",
   "metadata": {},
   "source": [
    "### データ読み込みの準備\n",
    "テキストファイルをもとにセグメンテーション用画像のパスのリストを作る"
   ]
  },
  {
   "cell_type": "code",
   "execution_count": 2,
   "metadata": {},
   "outputs": [
    {
     "name": "stdout",
     "output_type": "stream",
     "text": [
      "1464 724 725\n"
     ]
    }
   ],
   "source": [
    "train_path = \"./VOCtrainval_11-May-2012/VOCdevkit/VOC2012/ImageSets/Segmentation/train.txt\"\n",
    "val_path = \"./VOCtrainval_11-May-2012/VOCdevkit/VOC2012/ImageSets/Segmentation/val.txt\"\n",
    "\n",
    "def txt_to_pathlist(file_path):\n",
    "    with open(file_path, \"r\") as file:\n",
    "        lines = file.readlines()\n",
    "        lines = [line.strip() for line in lines]\n",
    "\n",
    "        image_paths = [\"./VOCtrainval_11-May-2012/VOCdevkit/VOC2012/JPEGImages/\"+fn+\".jpg\" for fn in lines]\n",
    "        label_paths = [\"./VOCtrainval_11-May-2012/VOCdevkit/VOC2012/SegmentationClass/\"+fn+\".png\" for fn in lines]\n",
    "    return image_paths, label_paths\n",
    "\n",
    "train_image_paths, train_label_paths = txt_to_pathlist(train_path)\n",
    "v_image_paths, v_label_paths = txt_to_pathlist(val_path)\n",
    "middle = len(v_image_paths)//2\n",
    "val_image_paths = v_image_paths[:middle]\n",
    "val_label_paths = v_label_paths[:middle]\n",
    "test_image_paths = v_image_paths[middle:]\n",
    "test_label_paths = val_label_paths[middle:]\n",
    "\n",
    "print(len(train_image_paths), len(val_image_paths), len(test_image_paths))\n"
   ]
  },
  {
   "cell_type": "markdown",
   "metadata": {},
   "source": [
    "データセットクラスの作成"
   ]
  },
  {
   "cell_type": "code",
   "execution_count": 3,
   "metadata": {},
   "outputs": [],
   "source": [
    "class VOCDataset(Dataset):\n",
    "    def __init__(self, image_paths, label_paths):\n",
    "        self.image_paths = image_paths\n",
    "        self.label_paths = label_paths\n",
    "\n",
    "    def __len__(self):\n",
    "        return len(self.image_paths)\n",
    "    \n",
    "    def __getitem__(self, idx):\n",
    "        image = Image.open(self.image_paths[idx])\n",
    "        image = image.resize((128,128)) \n",
    "        image = np.asarray(image)\n",
    "        image = torch.from_numpy(image.astype(np.float32)).clone()\n",
    "        image = image.permute(2,0,1) \n",
    "\n",
    "        label = Image.open(self.label_paths[idx])\n",
    "        label = label.resize((128,128))\n",
    "        label = np.asarray(label)\n",
    "        label = np.where(label == 255, 21, label) \n",
    "        label = torch.from_numpy(label).long().clone()\n",
    "        return image, label"
   ]
  },
  {
   "cell_type": "code",
   "execution_count": 4,
   "metadata": {},
   "outputs": [],
   "source": [
    "training_data = VOCDataset(train_image_paths, train_label_paths)\n",
    "validation_data = VOCDataset(val_image_paths, val_label_paths)\n",
    "test_data = VOCDataset(test_image_paths, test_label_paths)"
   ]
  },
  {
   "cell_type": "code",
   "execution_count": 5,
   "metadata": {},
   "outputs": [
    {
     "name": "stdout",
     "output_type": "stream",
     "text": [
      "Shape of X [N, C, H, W]:  torch.Size([16, 3, 128, 128])\n",
      "Shape of y:  torch.Size([16, 128, 128]) torch.int64\n"
     ]
    }
   ],
   "source": [
    "batch_size = 16\n",
    "\n",
    "# データローダーの作成\n",
    "train_dataloader = DataLoader(training_data, batch_size=batch_size)\n",
    "validation_dataloader = DataLoader(validation_data, batch_size=batch_size)\n",
    "test_dataloader = DataLoader(test_data, batch_size=batch_size)\n",
    "\n",
    "for X, y in train_dataloader:\n",
    "    print(\"Shape of X [N, C, H, W]: \", X.shape)\n",
    "    print(\"Shape of y: \", y.shape, y.dtype)\n",
    "    break"
   ]
  },
  {
   "cell_type": "markdown",
   "metadata": {},
   "source": [
    "### U-Netの定義"
   ]
  },
  {
   "cell_type": "markdown",
   "metadata": {},
   "source": []
  },
  {
   "cell_type": "code",
   "execution_count": 6,
   "metadata": {},
   "outputs": [
    {
     "name": "stdout",
     "output_type": "stream",
     "text": [
      "Using cuda device\n"
     ]
    }
   ],
   "source": [
    "device = \"cuda\" if torch.cuda.is_available() else \"cpu\"\n",
    "print(\"Using {} device\".format(device))\n",
    "\n",
    "class TwoConvBlock(nn.Module):\n",
    "    def __init__(self, in_channels, middle_channels, out_channels):\n",
    "        super().__init__()\n",
    "        self.conv1 = nn.Conv2d(in_channels, middle_channels, kernel_size = 3, padding=\"same\")\n",
    "        self.bn1 = nn.BatchNorm2d(middle_channels)\n",
    "        self.rl = nn.ReLU()\n",
    "        self.conv2 = nn.Conv2d(middle_channels, out_channels, kernel_size = 3, padding=\"same\")\n",
    "        self.bn2 = nn.BatchNorm2d(out_channels)\n",
    "\n",
    "    def forward(self, x):\n",
    "        x = self.conv1(x)\n",
    "        x = self.bn1(x)\n",
    "        x = self.rl(x)\n",
    "        x = self.conv2(x)\n",
    "        x = self.bn2(x)\n",
    "        x = self.rl(x)\n",
    "        return x\n",
    "\n",
    "class UpConv(nn.Module):\n",
    "    def __init__(self, in_channels, out_channels):\n",
    "        super().__init__()\n",
    "        self.up = nn.Upsample(scale_factor=2, mode=\"bilinear\", align_corners=True)\n",
    "        self.bn1 = nn.BatchNorm2d(in_channels)\n",
    "        self.conv = nn.Conv2d(in_channels, out_channels, kernel_size = 2, padding=\"same\")\n",
    "        self.bn2 = nn.BatchNorm2d(out_channels)\n",
    "\n",
    "    def forward(self, x):\n",
    "        x = self.up(x)\n",
    "        x = self.bn1(x)\n",
    "        x = self.conv(x)\n",
    "        x = self.bn2(x)\n",
    "        return x\n",
    "\n",
    "class UNet_2D(nn.Module):\n",
    "    def __init__(self):\n",
    "        super().__init__()\n",
    "        self.TCB1 = TwoConvBlock(3, 64, 64)\n",
    "        self.TCB2 = TwoConvBlock(64, 128, 128)\n",
    "        self.TCB3 = TwoConvBlock(128, 256, 256)\n",
    "        self.TCB4 = TwoConvBlock(256, 512, 512)\n",
    "        self.TCB5 = TwoConvBlock(512, 1024, 1024)\n",
    "        self.TCB6 = TwoConvBlock(1024, 512, 512)\n",
    "        self.TCB7 = TwoConvBlock(512, 256, 256)\n",
    "        self.TCB8 = TwoConvBlock(256, 128, 128)\n",
    "        self.TCB9 = TwoConvBlock(128, 64, 64)\n",
    "        self.maxpool = nn.MaxPool2d(2, stride = 2)\n",
    "        \n",
    "        self.UC1 = UpConv(1024, 512) \n",
    "        self.UC2 = UpConv(512, 256) \n",
    "        self.UC3 = UpConv(256, 128) \n",
    "        self.UC4= UpConv(128, 64)\n",
    "\n",
    "        self.conv1 = nn.Conv2d(64, 22, kernel_size = 1)\n",
    "        self.soft = nn.Softmax(dim = 1)\n",
    "\n",
    "    def forward(self, x):\n",
    "        x = self.TCB1(x)\n",
    "        x1 = x\n",
    "        x = self.maxpool(x)\n",
    "\n",
    "        x = self.TCB2(x)\n",
    "        x2 = x\n",
    "        x = self.maxpool(x)\n",
    "\n",
    "        x = self.TCB3(x)\n",
    "        x3 = x\n",
    "        x = self.maxpool(x)\n",
    "\n",
    "        x = self.TCB4(x)\n",
    "        x4 = x\n",
    "        x = self.maxpool(x)\n",
    "\n",
    "        x = self.TCB5(x)\n",
    "\n",
    "        x = self.UC1(x)\n",
    "        x = torch.cat([x4, x], dim = 1)\n",
    "        x = self.TCB6(x)\n",
    "\n",
    "        x = self.UC2(x)\n",
    "        x = torch.cat([x3, x], dim = 1)\n",
    "        x = self.TCB7(x)\n",
    "\n",
    "        x = self.UC3(x)\n",
    "        x = torch.cat([x2, x], dim = 1)\n",
    "        x = self.TCB8(x)\n",
    "\n",
    "        x = self.UC4(x)\n",
    "        x = torch.cat([x1, x], dim = 1)\n",
    "        x = self.TCB9(x)\n",
    "\n",
    "        x = self.conv1(x)\n",
    "        #x = self.soft(x)\n",
    "\n",
    "        return x\n",
    "    \n",
    "model = UNet_2D().to(device)\n",
    "#print(model)"
   ]
  },
  {
   "cell_type": "code",
   "execution_count": 7,
   "metadata": {},
   "outputs": [],
   "source": [
    "loss_fn = nn.CrossEntropyLoss()\n",
    "optimizer = torch.optim.SGD(model.parameters(), lr=1e-3)"
   ]
  },
  {
   "cell_type": "code",
   "execution_count": 8,
   "metadata": {},
   "outputs": [],
   "source": [
    "def calc_metrics(pred, tgt):\n",
    "\n",
    "    dice_list = []\n",
    "    present_dice_list = []\n",
    "\n",
    "    for c in range(21):\n",
    "        #onehot化\n",
    "        tgt_mask = F.one_hot(tgt, 22)\n",
    "        pred_mask = torch.argmax(pred, dim=1)\n",
    "        pred_mask = F.one_hot(pred_mask, 22)\n",
    "        tgt_mask = tgt_mask[:,:,:,c+1]\n",
    "        pred_mask = pred_mask[:,:,:,c+1]\n",
    "        if tgt_mask.sum().item() == 0:\n",
    "            dice = float(\"nan\")\n",
    "        else:\n",
    "            tp = torch.logical_and(tgt_mask, pred_mask).sum().item()\n",
    "            fp = torch.logical_and(~tgt_mask, pred_mask).sum().item()\n",
    "            fn = torch.logical_and(tgt_mask, ~pred_mask).sum().item()\n",
    "            dice = 2*tp/(2*tp+fp+fn)\n",
    "            present_dice_list.append(dice)\n",
    "\n",
    "    return np.mean(present_dice_list)"
   ]
  },
  {
   "cell_type": "code",
   "execution_count": 9,
   "metadata": {},
   "outputs": [],
   "source": [
    "def train(dataloader, model, loss_fn, optimizer):\n",
    "    size = len(dataloader.dataset)\n",
    "    model.train()\n",
    "    epoch_loss = 0\n",
    "    for batch, (X, y) in enumerate(dataloader):\n",
    "        X, y = X.to(device), y.to(device)\n",
    "        # 損失誤差を計算\n",
    "        pred = model(X)\n",
    "        loss = loss_fn(pred, y)\n",
    "        epoch_loss += loss.item()\n",
    "        # バックプロパゲーション\n",
    "        optimizer.zero_grad()\n",
    "        loss.backward()\n",
    "        optimizer.step()\n",
    "        if batch % 50 == 0:\n",
    "            loss, current = loss.item(), batch * len(X)\n",
    "            print(f\"loss: {loss:>7f}  [{current:>5d}/{size:>5d}]\")\n",
    "    epoch_loss /= size\n",
    "    return epoch_loss"
   ]
  },
  {
   "cell_type": "code",
   "execution_count": 10,
   "metadata": {},
   "outputs": [],
   "source": [
    "def validation(dataloader, model):\n",
    "    size = len(dataloader.dataset)\n",
    "    model.eval()\n",
    "    validation_loss = 0\n",
    "    dices = []\n",
    "\n",
    "    with torch.no_grad():\n",
    "        for X, y in dataloader:\n",
    "            X, y = X.to(device), y.to(device)\n",
    "            pred = model(X)\n",
    "            validation_loss += loss_fn(pred, y).item()\n",
    "            dice = calc_metrics(pred, y)\n",
    "            dices.append(dice)\n",
    "\n",
    "    validation_loss /= size\n",
    "    mdice = np.mean(dices)\n",
    "    print(f\"Validation Error: \\n mean Dice: {(mdice):.3f}, Avg loss: {validation_loss:>8f} \\n\")\n",
    "    return validation_loss"
   ]
  },
  {
   "cell_type": "code",
   "execution_count": 11,
   "metadata": {},
   "outputs": [],
   "source": [
    "def test(dataloader, model):\n",
    "    size = len(dataloader.dataset)\n",
    "    model.eval()\n",
    "    test_loss, correct = 0\n",
    "    with torch.no_grad():\n",
    "        for X, y in dataloader:\n",
    "            X, y = X.to(device), y.to(device)\n",
    "            pred = model(X)\n",
    "            test_loss += loss_fn(pred, y).item()\n",
    "            correct += (pred.argmax(1) == y).type(torch.float).sum().item()\n",
    "    test_loss /= size\n",
    "    correct /= size\n",
    "    print(f\"Test Error: \\n Accuracy: {(100*correct):>0.1f}%, Avg loss: {test_loss:>8f} \\n\")"
   ]
  },
  {
   "cell_type": "markdown",
   "metadata": {},
   "source": [
    "validation損失をもとに最適epochを決定\n"
   ]
  },
  {
   "cell_type": "code",
   "execution_count": 12,
   "metadata": {},
   "outputs": [
    {
     "name": "stdout",
     "output_type": "stream",
     "text": [
      "Epoch 1\n",
      "-------------------------------\n"
     ]
    },
    {
     "name": "stderr",
     "output_type": "stream",
     "text": [
      "c:\\Users\\Tonomura\\AppData\\Local\\Programs\\Python\\Python312\\Lib\\site-packages\\torch\\nn\\modules\\conv.py:456: UserWarning: Using padding='same' with even kernel lengths and odd dilation may require a zero-padded copy of the input be created (Triggered internally at ..\\aten\\src\\ATen\\native\\Convolution.cpp:1032.)\n",
      "  return F.conv2d(input, weight, bias, self.stride,\n"
     ]
    },
    {
     "name": "stdout",
     "output_type": "stream",
     "text": [
      "loss: 3.250236  [    0/ 1464]\n",
      "loss: 2.904750  [  800/ 1464]\n",
      "Validation Error: \n",
      " mean Dice: 0.026, Avg loss: 0.173246 \n",
      "\n",
      "Epoch 2\n",
      "-------------------------------\n",
      "loss: 2.650131  [    0/ 1464]\n",
      "loss: 2.378981  [  800/ 1464]\n",
      "Validation Error: \n",
      " mean Dice: 0.023, Avg loss: 0.144794 \n",
      "\n",
      "Epoch 3\n",
      "-------------------------------\n",
      "loss: 2.202555  [    0/ 1464]\n",
      "loss: 2.012324  [  800/ 1464]\n",
      "Validation Error: \n",
      " mean Dice: 0.021, Avg loss: 0.124738 \n",
      "\n",
      "Epoch 4\n",
      "-------------------------------\n",
      "loss: 1.891842  [    0/ 1464]\n",
      "loss: 1.760556  [  800/ 1464]\n",
      "Validation Error: \n",
      " mean Dice: 0.020, Avg loss: 0.110406 \n",
      "\n",
      "Epoch 5\n",
      "-------------------------------\n",
      "loss: 1.669547  [    0/ 1464]\n",
      "loss: 1.581751  [  800/ 1464]\n",
      "Validation Error: \n",
      " mean Dice: 0.019, Avg loss: 0.100829 \n",
      "\n",
      "Epoch 6\n",
      "-------------------------------\n",
      "loss: 1.509880  [    0/ 1464]\n",
      "loss: 1.448262  [  800/ 1464]\n",
      "Validation Error: \n",
      " mean Dice: 0.017, Avg loss: 0.094692 \n",
      "\n",
      "Epoch 7\n",
      "-------------------------------\n",
      "loss: 1.386490  [    0/ 1464]\n",
      "loss: 1.344671  [  800/ 1464]\n",
      "Validation Error: \n",
      " mean Dice: 0.014, Avg loss: 0.091381 \n",
      "\n",
      "Epoch 8\n",
      "-------------------------------\n",
      "loss: 1.289371  [    0/ 1464]\n",
      "loss: 1.262114  [  800/ 1464]\n",
      "Validation Error: \n",
      " mean Dice: 0.013, Avg loss: 0.089993 \n",
      "\n",
      "Epoch 9\n",
      "-------------------------------\n",
      "loss: 1.208555  [    0/ 1464]\n",
      "loss: 1.196839  [  800/ 1464]\n",
      "Validation Error: \n",
      " mean Dice: 0.013, Avg loss: 0.089292 \n",
      "\n",
      "Epoch 10\n",
      "-------------------------------\n",
      "loss: 1.141619  [    0/ 1464]\n",
      "loss: 1.145625  [  800/ 1464]\n",
      "Validation Error: \n",
      " mean Dice: 0.013, Avg loss: 0.089023 \n",
      "\n",
      "10\n",
      "Done!\n"
     ]
    }
   ],
   "source": [
    "epochs = 10\n",
    "min_loss = 1000\n",
    "model_path = \"model/unet/\"\n",
    "result_dir = \"result/\"\n",
    "\n",
    "os.makedirs(model_path, exist_ok=True)\n",
    "os.makedirs(result_dir, exist_ok=True)\n",
    "\n",
    "train_losses = []\n",
    "validation_losses = []\n",
    "for t in range(epochs):\n",
    "    print(f\"Epoch {t+1}\\n-------------------------------\")\n",
    "    train_loss = train(train_dataloader, model, loss_fn, optimizer)\n",
    "    train_losses.append(train_loss)\n",
    "    validation_loss = validation(validation_dataloader, model)\n",
    "    validation_losses.append(validation_loss)\n",
    "    if validation_loss < min_loss:\n",
    "        best_epoch = t+1\n",
    "        min_loss = validation_loss\n",
    "    torch.save(model.state_dict(), \"./model/model_\"+str(t+1)+\".pth\")\n",
    "print(best_epoch)\n",
    "\n",
    "model = UNet_2D()\n",
    "#model.load_state_dict(torch.load(\"model/model_\"+str(best_epoch)+\".pth\"))\n",
    "#test(test_dataloader, model)\n",
    "\n",
    "print(\"Done!\")"
   ]
  },
  {
   "cell_type": "markdown",
   "metadata": {},
   "source": [
    "損失グラフ作成"
   ]
  },
  {
   "cell_type": "code",
   "execution_count": 13,
   "metadata": {},
   "outputs": [
    {
     "data": {
      "image/png": "[encoded data removed]",
      "text/plain": [
       "<Figure size 640x480 with 1 Axes>"
      ]
     },
     "metadata": {},
     "output_type": "display_data"
    }
   ],
   "source": [
    "plt.plot(train_losses, label=\"train\")\n",
    "plt.plot(validation_losses, label=\"validation\")\n",
    "plt.xlabel(\"epochs\")\n",
    "plt.ylabel(\"loss\")\n",
    "plt.legend()\n",
    "plt.show()\n"
   ]
  },
  {
   "cell_type": "markdown",
   "metadata": {},
   "source": [
    "結果の評価"
   ]
  }
 ],
 "metadata": {
  "kernelspec": {
   "display_name": "Python 3",
   "language": "python",
   "name": "python3"
  },
  "language_info": {
   "codemirror_mode": {
    "name": "ipython",
    "version": 3
   },
   "file_extension": ".py",
   "mimetype": "text/x-python",
   "name": "python",
   "nbconvert_exporter": "python",
   "pygments_lexer": "ipython3",
   "version": "3.12.3"
  }
 },
 "nbformat": 4,
 "nbformat_minor": 2
}
