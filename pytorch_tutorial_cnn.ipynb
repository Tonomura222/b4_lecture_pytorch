{
 "cells": [
  {
   "cell_type": "markdown",
   "metadata": {},
   "source": [
    "CNNモデル"
   ]
  },
  {
   "cell_type": "code",
   "execution_count": 1,
   "metadata": {},
   "outputs": [],
   "source": [
    "import os\n",
    "\n",
    "import torch\n",
    "from torch import nn\n",
    "import torch.nn.functional as F\n",
    "from torch.utils.data import DataLoader\n",
    "from torch.utils.data import Subset\n",
    "from torchvision import datasets\n",
    "from torchvision.transforms import ToTensor, Lambda, Compose\n",
    "import matplotlib.pyplot as plt"
   ]
  },
  {
   "cell_type": "code",
   "execution_count": 2,
   "metadata": {},
   "outputs": [],
   "source": [
    "# 訓練データをdatasetsからダウンロード\n",
    "training_data = datasets.FashionMNIST(\n",
    "    root=\"data\",\n",
    "    train=True,\n",
    "    download=True,\n",
    "    transform=ToTensor(),\n",
    ")\n",
    "\n",
    "# テストデータをdatasetsからダウンロード\n",
    "test_data = datasets.FashionMNIST(\n",
    "    root=\"data\",\n",
    "    train=False,\n",
    "    download=True,\n",
    "    transform=ToTensor(),\n",
    ")"
   ]
  },
  {
   "cell_type": "markdown",
   "metadata": {},
   "source": [
    "Subsetを用いて、学習用画像60000枚を学習用50000枚と検証用10000枚に分割"
   ]
  },
  {
   "cell_type": "code",
   "execution_count": 3,
   "metadata": {},
   "outputs": [
    {
     "name": "stdout",
     "output_type": "stream",
     "text": [
      "50000 10000\n"
     ]
    }
   ],
   "source": [
    "train_size = 50000\n",
    "train_indices = list(range(0,train_size))\n",
    "valid_indices = list(range(train_size, len(training_data)))\n",
    "\n",
    "train_data = Subset(training_data, train_indices)\n",
    "valid_data = Subset(training_data, valid_indices)\n",
    "\n",
    "print(len(train_data), len(valid_data))\n"
   ]
  },
  {
   "cell_type": "code",
   "execution_count": 4,
   "metadata": {},
   "outputs": [
    {
     "name": "stdout",
     "output_type": "stream",
     "text": [
      "Shape of X [N, C, H, W]:  torch.Size([64, 1, 28, 28])\n",
      "Shape of y:  torch.Size([64]) torch.int64\n"
     ]
    }
   ],
   "source": [
    "batch_size = 64\n",
    "\n",
    "# データローダーの作成\n",
    "train_dataloader = DataLoader(train_data, batch_size=batch_size)\n",
    "validation_dataloader = DataLoader(valid_data, batch_size=batch_size)\n",
    "test_dataloader = DataLoader(test_data, batch_size=batch_size)\n",
    "\n",
    "for X, y in test_dataloader:\n",
    "    print(\"Shape of X [N, C, H, W]: \", X.shape)\n",
    "    print(\"Shape of y: \", y.shape, y.dtype)\n",
    "    break"
   ]
  },
  {
   "cell_type": "code",
   "execution_count": 5,
   "metadata": {},
   "outputs": [
    {
     "name": "stdout",
     "output_type": "stream",
     "text": [
      "Using cuda device\n",
      "CNN_model(\n",
      "  (conv1): Conv2d(1, 16, kernel_size=(3, 3), stride=(1, 1), padding=(1, 1))\n",
      "  (conv2): Conv2d(16, 32, kernel_size=(3, 3), stride=(1, 1), padding=(1, 1))\n",
      "  (flatten): Flatten(start_dim=1, end_dim=-1)\n",
      "  (fc1): Linear(in_features=1568, out_features=128, bias=True)\n",
      "  (fc2): Linear(in_features=128, out_features=10, bias=True)\n",
      ")\n"
     ]
    }
   ],
   "source": [
    "device = \"cuda\" if torch.cuda.is_available() else \"cpu\"\n",
    "print(\"Using {} device\".format(device))\n",
    "\n",
    "# CNNを用いたモデル\n",
    "class CNN_model(nn.Module):\n",
    "    def __init__(self):\n",
    "        super(CNN_model, self).__init__()\n",
    "        self.conv1 = nn.Conv2d(in_channels=1, out_channels=16, kernel_size=3, stride=1, padding=1)\n",
    "        self.conv2 = nn.Conv2d(in_channels=16, out_channels=32, kernel_size=3, stride=1, padding=1)\n",
    "        self.flatten = nn.Flatten()\n",
    "        self.fc1 = nn.Linear(32 * 7 * 7, 128)\n",
    "        self.fc2 = nn.Linear(128, 10)\n",
    "\n",
    "    def forward(self, x):\n",
    "        x = torch.relu(self.conv1(x))\n",
    "        x = torch.max_pool2d(x, kernel_size=2, stride=2)\n",
    "        x = torch.relu(self.conv2(x))\n",
    "        x = torch.max_pool2d(x, kernel_size=2, stride=2)\n",
    "        x = self.flatten(x)\n",
    "        x = torch.relu(self.fc1(x))\n",
    "        logits = self.fc2(x)\n",
    "        return logits\n",
    "\n",
    "model = CNN_model().to(device)\n",
    "print(model)"
   ]
  },
  {
   "cell_type": "code",
   "execution_count": 6,
   "metadata": {},
   "outputs": [],
   "source": [
    "loss_fn = nn.CrossEntropyLoss()\n",
    "optimizer = torch.optim.SGD(model.parameters(), lr=1e-3)"
   ]
  },
  {
   "cell_type": "code",
   "execution_count": 7,
   "metadata": {},
   "outputs": [],
   "source": [
    "def train(dataloader, model, loss_fn, optimizer):\n",
    "    size = len(dataloader.dataset)\n",
    "    model.train()\n",
    "    epoch_loss = 0\n",
    "    for batch, (X, y) in enumerate(dataloader):\n",
    "        X, y = X.to(device), y.to(device)\n",
    "        # 損失誤差を計算\n",
    "        pred = model(X)\n",
    "        loss = loss_fn(pred, y)\n",
    "        epoch_loss += loss.item()\n",
    "        # バックプロパゲーション\n",
    "        optimizer.zero_grad()\n",
    "        loss.backward()\n",
    "        optimizer.step()\n",
    "        if batch % 100 == 0:\n",
    "            loss, current = loss.item(), batch * len(X)\n",
    "            print(f\"loss: {loss:>7f}  [{current:>5d}/{size:>5d}]\")\n",
    "    epoch_loss /= size\n",
    "    return epoch_loss"
   ]
  },
  {
   "cell_type": "code",
   "execution_count": 8,
   "metadata": {},
   "outputs": [],
   "source": [
    "def validation(dataloader, model):\n",
    "    size = len(dataloader.dataset)\n",
    "    model.eval()\n",
    "    validation_loss, correct = 0, 0\n",
    "    with torch.no_grad():\n",
    "        for X, y in dataloader:\n",
    "            X, y = X.to(device), y.to(device)\n",
    "            pred = model(X)\n",
    "            validation_loss += loss_fn(pred, y).item()\n",
    "            correct += (pred.argmax(1) == y).type(torch.float).sum().item()\n",
    "    validation_loss /= size\n",
    "    correct /= size\n",
    "    print(f\"Validation Error: \\n Accuracy: {(100*correct):>0.1f}%, Avg loss: {validation_loss:>8f} \\n\")\n",
    "    return validation_loss"
   ]
  },
  {
   "cell_type": "code",
   "execution_count": 9,
   "metadata": {},
   "outputs": [],
   "source": [
    "def test(dataloader, model):\n",
    "    size = len(dataloader.dataset)\n",
    "    model.eval()\n",
    "    test_loss, correct = 0, 0\n",
    "    with torch.no_grad():\n",
    "        for X, y in dataloader:\n",
    "            X, y = X.to(device), y.to(device)\n",
    "            pred = model(X)\n",
    "            test_loss += loss_fn(pred, y).item()\n",
    "            correct += (pred.argmax(1) == y).type(torch.float).sum().item()\n",
    "    test_loss /= size\n",
    "    correct /= size\n",
    "    print(f\"Test Error: \\n Accuracy: {(100*correct):>0.1f}%, Avg loss: {test_loss:>8f} \\n\")"
   ]
  },
  {
   "cell_type": "markdown",
   "metadata": {},
   "source": [
    "validation損失をもとに最適epochを決定\n"
   ]
  },
  {
   "cell_type": "code",
   "execution_count": 10,
   "metadata": {},
   "outputs": [
    {
     "name": "stdout",
     "output_type": "stream",
     "text": [
      "Epoch 1\n",
      "-------------------------------\n",
      "loss: 2.310412  [    0/50000]\n",
      "loss: 2.302697  [ 6400/50000]\n",
      "loss: 2.300659  [12800/50000]\n",
      "loss: 2.300610  [19200/50000]\n",
      "loss: 2.278994  [25600/50000]\n",
      "loss: 2.292912  [32000/50000]\n",
      "loss: 2.293506  [38400/50000]\n",
      "loss: 2.291925  [44800/50000]\n",
      "Validation Error: \n",
      " Accuracy: 12.2%, Avg loss: 0.035886 \n",
      "\n",
      "Epoch 2\n",
      "-------------------------------\n",
      "loss: 2.293964  [    0/50000]\n",
      "loss: 2.288636  [ 6400/50000]\n",
      "loss: 2.283457  [12800/50000]\n",
      "loss: 2.283577  [19200/50000]\n",
      "loss: 2.261308  [25600/50000]\n",
      "loss: 2.273134  [32000/50000]\n",
      "loss: 2.272467  [38400/50000]\n",
      "loss: 2.269134  [44800/50000]\n",
      "Validation Error: \n",
      " Accuracy: 34.2%, Avg loss: 0.035516 \n",
      "\n",
      "Epoch 3\n",
      "-------------------------------\n",
      "loss: 2.271861  [    0/50000]\n",
      "loss: 2.267340  [ 6400/50000]\n",
      "loss: 2.256435  [12800/50000]\n",
      "loss: 2.255560  [19200/50000]\n",
      "loss: 2.227926  [25600/50000]\n",
      "loss: 2.236003  [32000/50000]\n",
      "loss: 2.231121  [38400/50000]\n",
      "loss: 2.223677  [44800/50000]\n",
      "Validation Error: \n",
      " Accuracy: 43.3%, Avg loss: 0.034743 \n",
      "\n",
      "Epoch 4\n",
      "-------------------------------\n",
      "loss: 2.225780  [    0/50000]\n",
      "loss: 2.220456  [ 6400/50000]\n",
      "loss: 2.194070  [12800/50000]\n",
      "loss: 2.188432  [19200/50000]\n",
      "loss: 2.140583  [25600/50000]\n",
      "loss: 2.136093  [32000/50000]\n",
      "loss: 2.112531  [38400/50000]\n",
      "loss: 2.086230  [44800/50000]\n",
      "Validation Error: \n",
      " Accuracy: 47.3%, Avg loss: 0.032291 \n",
      "\n",
      "Epoch 5\n",
      "-------------------------------\n",
      "loss: 2.081816  [    0/50000]\n",
      "loss: 2.057379  [ 6400/50000]\n",
      "loss: 1.970488  [12800/50000]\n",
      "loss: 1.935144  [19200/50000]\n",
      "loss: 1.799009  [25600/50000]\n",
      "loss: 1.751738  [32000/50000]\n",
      "loss: 1.662230  [38400/50000]\n",
      "loss: 1.578232  [44800/50000]\n",
      "Validation Error: \n",
      " Accuracy: 54.3%, Avg loss: 0.023712 \n",
      "\n",
      "Epoch 6\n",
      "-------------------------------\n",
      "loss: 1.577096  [    0/50000]\n",
      "loss: 1.518221  [ 6400/50000]\n",
      "loss: 1.321919  [12800/50000]\n",
      "loss: 1.338866  [19200/50000]\n",
      "loss: 1.143336  [25600/50000]\n",
      "loss: 1.194523  [32000/50000]\n",
      "loss: 1.154759  [38400/50000]\n",
      "loss: 1.060067  [44800/50000]\n",
      "Validation Error: \n",
      " Accuracy: 62.2%, Avg loss: 0.016339 \n",
      "\n",
      "Epoch 7\n",
      "-------------------------------\n",
      "loss: 1.111747  [    0/50000]\n",
      "loss: 1.119247  [ 6400/50000]\n",
      "loss: 0.889575  [12800/50000]\n",
      "loss: 1.048213  [19200/50000]\n",
      "loss: 0.874126  [25600/50000]\n",
      "loss: 0.946239  [32000/50000]\n",
      "loss: 0.960274  [38400/50000]\n",
      "loss: 0.840535  [44800/50000]\n",
      "Validation Error: \n",
      " Accuracy: 68.1%, Avg loss: 0.013500 \n",
      "\n",
      "Epoch 8\n",
      "-------------------------------\n",
      "loss: 0.884247  [    0/50000]\n",
      "loss: 0.964772  [ 6400/50000]\n",
      "loss: 0.711928  [12800/50000]\n",
      "loss: 0.939276  [19200/50000]\n",
      "loss: 0.782541  [25600/50000]\n",
      "loss: 0.833199  [32000/50000]\n",
      "loss: 0.870959  [38400/50000]\n",
      "loss: 0.749117  [44800/50000]\n",
      "Validation Error: \n",
      " Accuracy: 71.5%, Avg loss: 0.012097 \n",
      "\n",
      "Epoch 9\n",
      "-------------------------------\n",
      "loss: 0.757191  [    0/50000]\n",
      "loss: 0.873085  [ 6400/50000]\n",
      "loss: 0.619609  [12800/50000]\n",
      "loss: 0.872574  [19200/50000]\n",
      "loss: 0.727814  [25600/50000]\n",
      "loss: 0.769850  [32000/50000]\n",
      "loss: 0.817349  [38400/50000]\n",
      "loss: 0.705502  [44800/50000]\n",
      "Validation Error: \n",
      " Accuracy: 73.5%, Avg loss: 0.011262 \n",
      "\n",
      "Epoch 10\n",
      "-------------------------------\n",
      "loss: 0.681281  [    0/50000]\n",
      "loss: 0.808898  [ 6400/50000]\n",
      "loss: 0.564031  [12800/50000]\n",
      "loss: 0.824405  [19200/50000]\n",
      "loss: 0.688426  [25600/50000]\n",
      "loss: 0.732729  [32000/50000]\n",
      "loss: 0.779453  [38400/50000]\n",
      "loss: 0.679250  [44800/50000]\n",
      "Validation Error: \n",
      " Accuracy: 74.6%, Avg loss: 0.010712 \n",
      "\n",
      "10\n",
      "Test Error: \n",
      " Accuracy: 73.7%, Avg loss: 0.010978 \n",
      "\n",
      "Done!\n"
     ]
    }
   ],
   "source": [
    "epochs = 10\n",
    "min_loss = 1000\n",
    "\n",
    "model_path = \"model/cnn/\"\n",
    "os.makedirs(model_path, exist_ok=True)\n",
    "\n",
    "train_losses = []\n",
    "validation_losses = []\n",
    "for t in range(epochs):\n",
    "    print(f\"Epoch {t+1}\\n-------------------------------\")\n",
    "    train_loss = train(train_dataloader, model, loss_fn, optimizer)\n",
    "    train_losses.append(train_loss)\n",
    "    validation_loss = validation(validation_dataloader, model)\n",
    "    validation_losses.append(validation_loss)\n",
    "    if validation_loss < min_loss:\n",
    "        best_epoch = t+1\n",
    "        min_loss = validation_loss\n",
    "    torch.save(model.state_dict(), model_path+\"model_\"+str(t+1)+\".pth\")\n",
    "print(best_epoch)\n",
    "\n",
    "model.load_state_dict(torch.load(model_path+\"model_\"+str(best_epoch)+\".pth\"))\n",
    "test(test_dataloader, model)\n",
    "\n",
    "print(\"Done!\")"
   ]
  },
  {
   "cell_type": "markdown",
   "metadata": {},
   "source": [
    "損失グラフ作成"
   ]
  },
  {
   "cell_type": "code",
   "execution_count": 11,
   "metadata": {},
   "outputs": [
    {
     "data": {
      "image/png": "[encoded data removed]",
      "text/plain": [
       "<Figure size 640x480 with 1 Axes>"
      ]
     },
     "metadata": {},
     "output_type": "display_data"
    }
   ],
   "source": [
    "plt.plot(train_losses, label=\"train\")\n",
    "plt.plot(validation_losses, label=\"validation\")\n",
    "plt.xlabel(\"epochs\")\n",
    "plt.ylabel(\"loss\")\n",
    "plt.legend()\n",
    "plt.show()\n"
   ]
  }
 ],
 "metadata": {
  "kernelspec": {
   "display_name": "Python 3",
   "language": "python",
   "name": "python3"
  },
  "language_info": {
   "codemirror_mode": {
    "name": "ipython",
    "version": 3
   },
   "file_extension": ".py",
   "mimetype": "text/x-python",
   "name": "python",
   "nbconvert_exporter": "python",
   "pygments_lexer": "ipython3",
   "version": "3.12.3"
  }
 },
 "nbformat": 4,
 "nbformat_minor": 2
}
